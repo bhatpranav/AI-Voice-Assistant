{
 "cells": [
  {
   "cell_type": "code",
   "execution_count": 1,
   "id": "3e2d90e1",
   "metadata": {},
   "outputs": [
    {
     "name": "stdout",
     "output_type": "stream",
     "text": [
      "Initializing Your Personalized Voice Assistant\n",
      "Listening . . .\n",
      "Sorry, couldnt understand what you said\n",
      "hello none\n",
      "Listening . . .\n",
      "Ok bye!!! \n",
      "See you soon none :) \n"
     ]
    }
   ],
   "source": [
    "import speech_recognition as sp\n",
    "import pyttsx3\n",
    "import pyaudio\n",
    "import wikipedia\n",
    "import webbrowser\n",
    "\n",
    "print(\"Initializing Your Personalized Voice Assistant\")\n",
    "print(\"hello\")\n",
    "\n",
    "engine = pyttsx3.init('sapi5')\n",
    "voice_list = engine.getProperty('voices')\n",
    "engine.setProperty('rate', 175)\n",
    "engine.setProperty('voice', 'voice_list[0].id')\n",
    "\n",
    "def speak(text):\n",
    "    engine.say(text)\n",
    "    engine.runAndWait()\n",
    "    \n",
    "def listenCommand():\n",
    "    recog = sp.Recognizer()\n",
    "    with sp.Microphone() as source:\n",
    "        print(\"Listening . . .\")\n",
    "        audio = recog.listen(source)\n",
    "        \n",
    "    try:\n",
    "        command = recog.recognize_google(audio, language='en-in')\n",
    "        \n",
    "    except sp.UnknownValueError:\n",
    "        print(\"Sorry, couldnt understand what you said\")\n",
    "        speak(\"Sorry, couldnt understand what you said\")\n",
    "        return \" \"\n",
    "    except sp.RequestError:\n",
    "        print(\"Could not request results from Google Speech Recognition service; {0}\".format(e))\n",
    "        return \" \"\n",
    "              \n",
    "    return command\n",
    "\n",
    "\n",
    "    \n",
    "if __name__ == '__main__':\n",
    "    \n",
    "    speak(\"Hey there, i am blank\")\n",
    "    name = \" \"\n",
    "    while name == \" \":\n",
    "        speak(\"what is your name?\")\n",
    "        name = listenCommand().lower()\n",
    "    \n",
    "    print(\"hello {}\".format(name))\n",
    "    speak(\"hello \"+name)\n",
    "    \n",
    "    speak(\"how may i help you?\")\n",
    "    \n",
    "    while True:\n",
    "        command = listenCommand().lower()\n",
    "        if command == 0:\n",
    "            continue\n",
    "        \n",
    "        if \"goodbye\" in command or \"bye\" in command:\n",
    "            print(\"Ok bye!!! \\nSee you soon {} :) \".format(name))\n",
    "            speak(\"Ok bye!!! \\nSee you soon \"+name)\n",
    "            break\n",
    "            \n",
    "        if \"wikipedia\" in command:\n",
    "            query = command.replace(\"wikipedia\",\"\")\n",
    "            result = wikipedia.page(query, None, True, True, False)\n",
    "            summary = wikipedia.summary(query, sentences=3)\n",
    "            webbrowser.open_new_tab(\"https://en.wikipedia.org/wiki/\"+result.title)\n",
    "            speak(\"According to wikipedia \")\n",
    "            print(summary)\n",
    "            speak(summary)            "
   ]
  },
  {
   "cell_type": "code",
   "execution_count": null,
   "id": "e30da3b7",
   "metadata": {},
   "outputs": [],
   "source": []
  }
 ],
 "metadata": {
  "kernelspec": {
   "display_name": "Python 3 (ipykernel)",
   "language": "python",
   "name": "python3"
  },
  "language_info": {
   "codemirror_mode": {
    "name": "ipython",
    "version": 3
   },
   "file_extension": ".py",
   "mimetype": "text/x-python",
   "name": "python",
   "nbconvert_exporter": "python",
   "pygments_lexer": "ipython3",
   "version": "3.10.2"
  }
 },
 "nbformat": 4,
 "nbformat_minor": 5
}
